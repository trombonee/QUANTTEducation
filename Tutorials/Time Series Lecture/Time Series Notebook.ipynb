{
 "cells": [
  {
   "source": [
    "# Time Series Analysis\n",
    "## What is a time series?\n",
    "In many fields of study data is collected from a system. The obserbations made of such a process will generate a time series. In simplest terms, a time series is a set of data indexed by time. For the purposes of quant finance, we will be working with financial time series such as the closing price of a stock. A great python module for working with this type of data is Pandas, which will be covered later on.\n",
    "## Examples of time series:\n"
   ],
   "cell_type": "markdown",
   "metadata": {}
  }
 ],
 "metadata": {},
 "nbformat": 4,
 "nbformat_minor": 5
}